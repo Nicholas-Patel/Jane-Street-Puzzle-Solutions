{
 "cells": [
  {
   "cell_type": "code",
   "execution_count": null,
   "id": "77860e41",
   "metadata": {},
   "outputs": [],
   "source": [
    "# Jane Street Puzzle - August 2023 (Single-Cross 2)\n",
    "# Solution by Nicholas Patel"
   ]
  },
  {
   "cell_type": "code",
   "execution_count": 1,
   "id": "88275a06",
   "metadata": {},
   "outputs": [],
   "source": [
    "from sympy import *\n",
    "from IPython.display import display"
   ]
  },
  {
   "cell_type": "code",
   "execution_count": 2,
   "id": "f080a85c",
   "metadata": {},
   "outputs": [
    {
     "data": {
      "text/latex": [
       "$\\displaystyle \\frac{D \\left(3 D^{2} - 16 D + 6 \\pi\\right)}{4 \\pi}$"
      ],
      "text/plain": [
       "D*(3*D**2 - 16*D + 6*pi)/(4*pi)"
      ]
     },
     "metadata": {},
     "output_type": "display_data"
    }
   ],
   "source": [
    "# Symbolic integration\n",
    "u, theta, D = symbols(\"u theta D\")\n",
    "f = ((6/pi) * (1 - D * sqrt(1-u**2) * cos(theta)) * (1 - D * sqrt(1-u**2) * sin(theta)) * (D * u))\n",
    "res = simplify(integrate(f, (theta, 0, pi/2), (u, 0, 1)))\n",
    "display(res)"
   ]
  },
  {
   "cell_type": "code",
   "execution_count": 3,
   "id": "8dcdbd42",
   "metadata": {},
   "outputs": [
    {
     "data": {
      "text/latex": [
       "$\\displaystyle \\frac{9 D^{2} - 32 D + 6 \\pi}{4 \\pi}$"
      ],
      "text/plain": [
       "(9*D**2 - 32*D + 6*pi)/(4*pi)"
      ]
     },
     "metadata": {},
     "output_type": "display_data"
    }
   ],
   "source": [
    "# Symbolic differentiation\n",
    "deriv = simplify(diff(res, D))\n",
    "display(deriv)"
   ]
  },
  {
   "cell_type": "code",
   "execution_count": 4,
   "id": "a4a9360f",
   "metadata": {},
   "outputs": [],
   "source": [
    "# Find roots of quadratic (only one root valid)\n",
    "r = simplify(RootOf(deriv, 0))\n",
    "prob = res.subs(D,r)"
   ]
  },
  {
   "cell_type": "code",
   "execution_count": 5,
   "id": "4dc4715b",
   "metadata": {},
   "outputs": [
    {
     "data": {
      "text/latex": [
       "$\\displaystyle D = \\frac{16}{9} - \\frac{\\sqrt{256 - 54 \\pi}}{9}$"
      ],
      "text/plain": [
       "Eq(D, 16/9 - sqrt(256 - 54*pi)/9)"
      ]
     },
     "metadata": {},
     "output_type": "display_data"
    },
    {
     "data": {
      "text/latex": [
       "$\\displaystyle \\operatorname{Prob}{\\left(D \\right)} = \\frac{\\left(\\frac{16}{9} - \\frac{\\sqrt{256 - 54 \\pi}}{9}\\right) \\left(- \\frac{256}{9} + 3 \\left(\\frac{16}{9} - \\frac{\\sqrt{256 - 54 \\pi}}{9}\\right)^{2} + \\frac{16 \\sqrt{256 - 54 \\pi}}{9} + 6 \\pi\\right)}{4 \\pi}$"
      ],
      "text/plain": [
       "Eq(Prob(D), (16/9 - sqrt(256 - 54*pi)/9)*(-256/9 + 3*(16/9 - sqrt(256 - 54*pi)/9)**2 + 16*sqrt(256 - 54*pi)/9 + 6*pi)/(4*pi))"
      ]
     },
     "metadata": {},
     "output_type": "display_data"
    }
   ],
   "source": [
    "# Print results\n",
    "display(Eq(D,r))\n",
    "display(Eq(S('Prob(D)'),prob))"
   ]
  },
  {
   "cell_type": "code",
   "execution_count": 6,
   "id": "dedd7e2f",
   "metadata": {},
   "outputs": [
    {
     "name": "stdout",
     "output_type": "stream",
     "text": [
      "Answer is 0.7452572091,0.5095346021\n"
     ]
    }
   ],
   "source": [
    "# Numerical estimates for submission\n",
    "estimate_D = r.evalf()\n",
    "estimate_prob = prob.evalf()\n",
    "print(f\"Answer is {estimate_D:.10f},{estimate_prob:.10f}\")"
   ]
  }
 ],
 "metadata": {
  "kernelspec": {
   "display_name": "Python 3 (ipykernel)",
   "language": "python",
   "name": "python3"
  },
  "language_info": {
   "codemirror_mode": {
    "name": "ipython",
    "version": 3
   },
   "file_extension": ".py",
   "mimetype": "text/x-python",
   "name": "python",
   "nbconvert_exporter": "python",
   "pygments_lexer": "ipython3",
   "version": "3.8.2"
  }
 },
 "nbformat": 4,
 "nbformat_minor": 5
}
